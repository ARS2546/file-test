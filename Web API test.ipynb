{
 "cells": [
  {
   "cell_type": "code",
   "execution_count": null,
   "metadata": {},
   "outputs": [],
   "source": [
    "import requests\n",
    "#r = requests.get(\"https://www.yahoo.co.jp\")\n",
    "#r.text\n",
    "r = requests.get(\"https://zipcloud.ibsnet.co.jp/api/search?zipcode=7830060\")    #zipcodeから引数(郵便番号7830060の住所を表示)\n",
    "r.json()    #jsonのデータ形式で取得"
   ]
  }
 ],
 "metadata": {
  "kernelspec": {
   "display_name": "Python 3",
   "language": "python",
   "name": "python3"
  },
  "language_info": {
   "name": "python",
   "version": "3.10.11"
  },
  "orig_nbformat": 4
 },
 "nbformat": 4,
 "nbformat_minor": 2
}
